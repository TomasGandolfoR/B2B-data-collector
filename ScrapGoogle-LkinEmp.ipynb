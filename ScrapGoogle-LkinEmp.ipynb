{
 "cells": [
  {
   "cell_type": "markdown",
   "metadata": {},
   "source": [
    "## buscando en google"
   ]
  },
  {
   "cell_type": "code",
   "execution_count": 151,
   "metadata": {},
   "outputs": [],
   "source": [
    "# importo el web driver\n",
    "import time\n",
    "from selenium import webdriver\n",
    "\n",
    "# especifico la dirección de chromedriver.exe\n",
    "driver = webdriver.Chrome()\n",
    "\n",
    "driver.get('https:www.google.com')\n",
    "time.sleep(1)\n",
    "\n",
    "search_query = driver.find_element_by_name('q')\n",
    "search_query.send_keys('site:linkedin.com/company/ AND (founder OR CEO) AND (\"Marketing y publicidad\") AND \"Buenos Aires\" AND (\"-50 empleados\")')\n",
    "time.sleep(0.5)"
   ]
  },
  {
   "cell_type": "code",
   "execution_count": 7,
   "metadata": {},
   "outputs": [],
   "source": [
    "search_query.send_keys(webdriver.common.keys.Keys.RETURN)"
   ]
  },
  {
   "cell_type": "code",
   "execution_count": 8,
   "metadata": {},
   "outputs": [],
   "source": [
    "#time.sleep(3)\n",
    "linkedin_urls = driver.find_elements_by_class_name('r')\n",
    "linkedin_urls2 = [url.text for url in linkedin_urls]"
   ]
  },
  {
   "cell_type": "code",
   "execution_count": 135,
   "metadata": {},
   "outputs": [
    {
     "name": "stdout",
     "output_type": "stream",
     "text": [
      "Wall time: 30 s\n"
     ]
    }
   ],
   "source": [
    "%%time\n",
    "linkedin_urls2 = []\n",
    "for i in range(0, 28):\n",
    "    driver.get('https://www.google.com/search?q=site:linkedin.com/company/+AND+(founder+OR+CEO+OR+fundador)+AND+(%22Marketing+y+publicidad%22)+AND+%22Buenos+Aires%22+AND+(%22-50+empleados%22)&client=firefox-b-d&ei=u4FtX8ekI8Sw5OUPv9qA6Aw&start='\n",
    "               + str(i*10) +\n",
    "               '&sa=N&ved=2ahUKEwiH7sGGy4PsAhVEGLkGHT8tAM0Q8tMDegQIDBAw&biw=1368&bih=768&dpr=2')\n",
    "    linkedin_urls = driver.find_elements_by_class_name('eipWBe')\n",
    "    for item in linkedin_urls:\n",
    "        linkedin_urls2.append(item.text)"
   ]
  },
  {
   "cell_type": "code",
   "execution_count": 146,
   "metadata": {},
   "outputs": [
    {
     "data": {
      "text/plain": [
       "265"
      ]
     },
     "execution_count": 146,
     "metadata": {},
     "output_type": "execute_result"
    }
   ],
   "source": [
    "#linkedin_urls = linkedin_urls2.copy()\n",
    "len(linkedin_urls2)\n",
    "#linkedin_urls2"
   ]
  },
  {
   "cell_type": "code",
   "execution_count": 142,
   "metadata": {},
   "outputs": [
    {
     "name": "stdout",
     "output_type": "stream",
     "text": [
      "Wall time: 1.99 ms\n"
     ]
    }
   ],
   "source": [
    "%%time\n",
    "linkedin_urls2 = [item.replace(\"›\", \"\") for item in linkedin_urls2]\n",
    "linkedin_urls2 = [item.replace(\"company\", \"\") for item in linkedin_urls2]\n",
    "linkedin_urls2 = [item.replace(\" \", \"\") for item in linkedin_urls2]\n",
    "linkedin_urls2 = [item.replace(\"es-es\", \"\") for item in linkedin_urls2]\n",
    "linkedin_urls2 = [item.replace(\"zh-cn\", \"\") for item in linkedin_urls2]\n",
    "\n",
    "for i in range(0, len(linkedin_urls2)):\n",
    "    if (linkedin_urls2[i].find('...') != -1) or (linkedin_urls2[i].find('..') != -1) or (linkedin_urls2[i] == ''):\n",
    "        linkedin_urls2.pop(i)\n",
    "\n",
    "linkedin_urls2 = [('https://www.linkedin.com/company/'+item) for item in linkedin_urls2]"
   ]
  },
  {
   "cell_type": "code",
   "execution_count": 147,
   "metadata": {},
   "outputs": [],
   "source": [
    "from pandas import DataFrame\n",
    "df = DataFrame(linkedin_urls2,columns=['Column_Name'])\n",
    "df.to_csv(r'linkedin_empresas_mkt_11a50empleados.csv', index = False)"
   ]
  },
  {
   "cell_type": "markdown",
   "metadata": {},
   "source": [
    "# Esto no va jeje"
   ]
  },
  {
   "cell_type": "code",
   "execution_count": 27,
   "metadata": {},
   "outputs": [
    {
     "data": {
      "text/plain": [
       "114"
      ]
     },
     "execution_count": 27,
     "metadata": {},
     "output_type": "execute_result"
    }
   ],
   "source": [
    "import pandas as pd\n",
    "df = pd.read_csv('linkedin4.csv')\n",
    "len(df)"
   ]
  },
  {
   "cell_type": "code",
   "execution_count": 20,
   "metadata": {},
   "outputs": [
    {
     "data": {
      "text/html": [
       "<div>\n",
       "<style scoped>\n",
       "    .dataframe tbody tr th:only-of-type {\n",
       "        vertical-align: middle;\n",
       "    }\n",
       "\n",
       "    .dataframe tbody tr th {\n",
       "        vertical-align: top;\n",
       "    }\n",
       "\n",
       "    .dataframe thead th {\n",
       "        text-align: right;\n",
       "    }\n",
       "</style>\n",
       "<table border=\"1\" class=\"dataframe\">\n",
       "  <thead>\n",
       "    <tr style=\"text-align: right;\">\n",
       "      <th></th>\n",
       "      <th>Column_Name</th>\n",
       "    </tr>\n",
       "  </thead>\n",
       "  <tbody>\n",
       "    <tr>\n",
       "      <th>0</th>\n",
       "      <td>https://www.linkedin.com/in/gabrielgruber</td>\n",
       "    </tr>\n",
       "    <tr>\n",
       "      <th>1</th>\n",
       "      <td>https://www.linkedin.com/in/santiagoechazu</td>\n",
       "    </tr>\n",
       "    <tr>\n",
       "      <th>2</th>\n",
       "      <td>https://www.linkedin.com/in/sebastianserrano</td>\n",
       "    </tr>\n",
       "    <tr>\n",
       "      <th>3</th>\n",
       "      <td>https://www.linkedin.com/in/alejandrocosentino</td>\n",
       "    </tr>\n",
       "    <tr>\n",
       "      <th>4</th>\n",
       "      <td>https://www.linkedin.com/in/germandyzenchauz</td>\n",
       "    </tr>\n",
       "    <tr>\n",
       "      <th>...</th>\n",
       "      <td>...</td>\n",
       "    </tr>\n",
       "    <tr>\n",
       "      <th>113</th>\n",
       "      <td>https://www.linkedin.com/in/danpatino</td>\n",
       "    </tr>\n",
       "    <tr>\n",
       "      <th>114</th>\n",
       "      <td>https://www.linkedin.com/in/francisco-siutti-2...</td>\n",
       "    </tr>\n",
       "    <tr>\n",
       "      <th>115</th>\n",
       "      <td>https://www.linkedin.com/in/danielnegrotto</td>\n",
       "    </tr>\n",
       "    <tr>\n",
       "      <th>116</th>\n",
       "      <td>https://www.linkedin.com/in/fedegona</td>\n",
       "    </tr>\n",
       "    <tr>\n",
       "      <th>117</th>\n",
       "      <td>https://www.linkedin.com/in/horaciocuervo</td>\n",
       "    </tr>\n",
       "  </tbody>\n",
       "</table>\n",
       "<p>118 rows × 1 columns</p>\n",
       "</div>"
      ],
      "text/plain": [
       "                                           Column_Name\n",
       "0            https://www.linkedin.com/in/gabrielgruber\n",
       "1           https://www.linkedin.com/in/santiagoechazu\n",
       "2         https://www.linkedin.com/in/sebastianserrano\n",
       "3       https://www.linkedin.com/in/alejandrocosentino\n",
       "4         https://www.linkedin.com/in/germandyzenchauz\n",
       "..                                                 ...\n",
       "113              https://www.linkedin.com/in/danpatino\n",
       "114  https://www.linkedin.com/in/francisco-siutti-2...\n",
       "115         https://www.linkedin.com/in/danielnegrotto\n",
       "116               https://www.linkedin.com/in/fedegona\n",
       "117          https://www.linkedin.com/in/horaciocuervo\n",
       "\n",
       "[118 rows x 1 columns]"
      ]
     },
     "execution_count": 20,
     "metadata": {},
     "output_type": "execute_result"
    }
   ],
   "source": [
    "df = df.applymap(lambda x: x[len('https://www.linkedin.com/in/'):])\n",
    "#df = df.applymap(lambda x: x.replace('pipojojo', 'https://www.linkedin.com/in/'))\n",
    "df"
   ]
  },
  {
   "cell_type": "code",
   "execution_count": 21,
   "metadata": {},
   "outputs": [],
   "source": [
    "df.to_csv(r'linkedin2.csv', index = False)"
   ]
  },
  {
   "cell_type": "code",
   "execution_count": null,
   "metadata": {},
   "outputs": [],
   "source": []
  }
 ],
 "metadata": {
  "kernelspec": {
   "display_name": "Python 3",
   "language": "python",
   "name": "python3"
  },
  "language_info": {
   "codemirror_mode": {
    "name": "ipython",
    "version": 3
   },
   "file_extension": ".py",
   "mimetype": "text/x-python",
   "name": "python",
   "nbconvert_exporter": "python",
   "pygments_lexer": "ipython3",
   "version": "3.7.4"
  }
 },
 "nbformat": 4,
 "nbformat_minor": 4
}
