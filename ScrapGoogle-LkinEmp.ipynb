{
 "cells": [
  {
   "cell_type": "markdown",
   "metadata": {},
   "source": [
    "# Buscar en Google"
   ]
  },
  {
   "cell_type": "code",
   "execution_count": null,
   "metadata": {},
   "outputs": [],
   "source": [
    "# importo el web driver\n",
    "import time\n",
    "from selenium import webdriver\n",
    "\n",
    "# especifico la dirección de chromedriver.exe\n",
    "driver = webdriver.Chrome()\n",
    "\n",
    "driver.get('https:www.google.com')\n",
    "time.sleep(1)\n",
    "\n",
    "search_query = driver.find_element_by_name('q')\n",
    "search_query.send_keys('site:linkedin.com/company/ AND (founder OR CEO) AND (\"Marketing y publicidad\") AND \"Buenos Aires\" AND (\"-50 empleados\")')\n",
    "time.sleep(0.5)"
   ]
  },
  {
   "cell_type": "code",
   "execution_count": null,
   "metadata": {},
   "outputs": [],
   "source": [
    "search_query.send_keys(webdriver.common.keys.Keys.RETURN)"
   ]
  },
  {
   "cell_type": "code",
   "execution_count": null,
   "metadata": {},
   "outputs": [],
   "source": [
    "#time.sleep(3)\n",
    "linkedin_urls = driver.find_elements_by_class_name('r')\n",
    "linkedin_urls2 = [url.text for url in linkedin_urls]"
   ]
  },
  {
   "cell_type": "code",
   "execution_count": null,
   "metadata": {},
   "outputs": [],
   "source": [
    "%%time\n",
    "linkedin_urls2 = []\n",
    "for i in range(0, 28):\n",
    "    driver.get('https://www.google.com/search?q=site:linkedin.com/company/+AND+(founder+OR+CEO+OR+fundador)+AND+(%22Marketing+y+publicidad%22)+AND+%22Buenos+Aires%22+AND+(%22-50+empleados%22)&client=firefox-b-d&ei=u4FtX8ekI8Sw5OUPv9qA6Aw&start='\n",
    "               + str(i*10) +\n",
    "               '&sa=N&ved=2ahUKEwiH7sGGy4PsAhVEGLkGHT8tAM0Q8tMDegQIDBAw&biw=1368&bih=768&dpr=2')\n",
    "    linkedin_urls = driver.find_elements_by_class_name('eipWBe')\n",
    "    for item in linkedin_urls:\n",
    "        linkedin_urls2.append(item.text)"
   ]
  },
  {
   "cell_type": "code",
   "execution_count": null,
   "metadata": {},
   "outputs": [],
   "source": [
    "#linkedin_urls = linkedin_urls2.copy()\n",
    "len(linkedin_urls2)\n",
    "#linkedin_urls2"
   ]
  },
  {
   "cell_type": "code",
   "execution_count": null,
   "metadata": {},
   "outputs": [],
   "source": [
    "%%time\n",
    "linkedin_urls2 = [item.replace(\"›\", \"\") for item in linkedin_urls2]\n",
    "linkedin_urls2 = [item.replace(\"company\", \"\") for item in linkedin_urls2]\n",
    "linkedin_urls2 = [item.replace(\" \", \"\") for item in linkedin_urls2]\n",
    "linkedin_urls2 = [item.replace(\"es-es\", \"\") for item in linkedin_urls2]\n",
    "linkedin_urls2 = [item.replace(\"zh-cn\", \"\") for item in linkedin_urls2]\n",
    "\n",
    "for i in range(0, len(linkedin_urls2)):\n",
    "    if (linkedin_urls2[i].find('...') != -1) or (linkedin_urls2[i].find('..') != -1) or (linkedin_urls2[i] == ''):\n",
    "        linkedin_urls2.pop(i)\n",
    "\n",
    "linkedin_urls2 = [('https://www.linkedin.com/company/'+item) for item in linkedin_urls2]"
   ]
  },
  {
   "cell_type": "code",
   "execution_count": null,
   "metadata": {},
   "outputs": [],
   "source": [
    "from pandas import DataFrame\n",
    "df = DataFrame(linkedin_urls2,columns=['Column_Name'])\n",
    "df.to_csv(r'linkedin_empresas_mkt_11a50empleados.csv', index = False)"
   ]
  }
 ],
 "metadata": {
  "kernelspec": {
   "display_name": "Python 3",
   "language": "python",
   "name": "python3"
  },
  "language_info": {
   "codemirror_mode": {
    "name": "ipython",
    "version": 3
   },
   "file_extension": ".py",
   "mimetype": "text/x-python",
   "name": "python",
   "nbconvert_exporter": "python",
   "pygments_lexer": "ipython3",
   "version": "3.7.4"
  }
 },
 "nbformat": 4,
 "nbformat_minor": 4
}
