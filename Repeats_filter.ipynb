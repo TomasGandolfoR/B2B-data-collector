{
 "cells": [
  {
   "cell_type": "markdown",
   "metadata": {},
   "source": [
    "# Corroboro que no haya repetidos"
   ]
  },
  {
   "cell_type": "markdown",
   "metadata": {},
   "source": [
    "## Seteo de Files e inputs"
   ]
  },
  {
   "cell_type": "code",
   "execution_count": null,
   "metadata": {},
   "outputs": [],
   "source": [
    "nro_de_archivo_inicial = 1\n",
    "nro_de_archivo_final = 3\n",
    "nro_de_archivo = 1\n",
    "existe = 0"
   ]
  },
  {
   "cell_type": "code",
   "execution_count": null,
   "metadata": {},
   "outputs": [],
   "source": [
    "import pandas as pd"
   ]
  },
  {
   "cell_type": "markdown",
   "metadata": {},
   "source": [
    "## Funciones"
   ]
  },
  {
   "cell_type": "code",
   "execution_count": null,
   "metadata": {},
   "outputs": [],
   "source": [
    "def create_internal_df():\n",
    "    df = {'Contacto_primer_nombre': [],\n",
    "        'Contacto_nombre_completo': [],\n",
    "        'Desc': [],\n",
    "        'Mail': [],\n",
    "        'Empresa1_nombre': [],\n",
    "        'Empresa1_rol': [],\n",
    "        'Empresa1_link': [],\n",
    "        'Contacto_Linkedin': [],\n",
    "        'Empresa_nombre': [],\n",
    "        'Empresa_Linkedin': [],\n",
    "        'existe': '',\n",
    "       }\n",
    "    df = pd.DataFrame (df, columns = ['Contacto_primer_nombre', 'Contacto_nombre_completo', 'Desc', 'Mail', 'Empresa1_nombre', 'Empresa1_rol', 'Empresa1_link','Contacto_Linkedin', 'Empresa_nombre','Empresa_Linkedin', 'existe'])\n",
    "    return df"
   ]
  },
  {
   "cell_type": "code",
   "execution_count": null,
   "metadata": {},
   "outputs": [],
   "source": [
    "def archivos_to_df(nro_de_archivo_inicial, nro_de_archivo_final, existe):\n",
    "    df = create_internal_df()\n",
    "    for i in range(nro_de_archivo_inicial, nro_de_archivo_final+1):\n",
    "        df = df.append(pd.read_csv('iGTa_N_E_ok/iGTa_N'+str(i)+'_E'+str(existe) +'.csv'), ignore_index = True)\n",
    "    return df"
   ]
  },
  {
   "cell_type": "code",
   "execution_count": null,
   "metadata": {},
   "outputs": [],
   "source": [
    "def marcar_repetidos_por_contacto_y_por_empresa(df):\n",
    "    type_boolean = type(True)\n",
    "    for pivot in range(0, int(df.shape[0])):\n",
    "        chequeado = (type(df['Empresa_nombre'][pivot]) == type_boolean or type(df['Contacto_nombre_completo'][pivot]) == type_boolean)\n",
    "        if chequeado != True:\n",
    "            for comparar in range(0, int(df.shape[0])):\n",
    "                chequeado = (type(df['Empresa_nombre'][comparar]) == type_boolean or type(df['Empresa_nombre'][pivot]) == type_boolean or type(df['Contacto_nombre_completo'][pivot]) == type_boolean or type(df['Contacto_nombre_completo'][comparar]) == type_boolean)\n",
    "                if chequeado != True and pivot != comparar:\n",
    "                    if str(df['Empresa_nombre'][comparar]) == str(df['Empresa_nombre'][pivot]):\n",
    "                        df['Empresa_nombre'][pivot] = bool(False)\n",
    "                    if str(df['Contacto_nombre_completo'][comparar]) == str(df['Contacto_nombre_completo'][pivot]):\n",
    "                        df['Contacto_nombre_completo'][pivot] = bool(False)\n",
    "    return df"
   ]
  },
  {
   "cell_type": "code",
   "execution_count": null,
   "metadata": {},
   "outputs": [],
   "source": [
    "def tomar_valores_unicos(df_input):\n",
    "    type_boolean = type(True)\n",
    "    df = create_internal_df()\n",
    "    for row in range(0, int(df_input.shape[0])):\n",
    "        if type(df_input['Empresa_nombre'][row]) != type_boolean and type(df_input['Contacto_nombre_completo'][row]) != type_boolean:\n",
    "            df = df.append(df_input.loc[row], ignore_index = True)\n",
    "    return df"
   ]
  },
  {
   "cell_type": "markdown",
   "metadata": {},
   "source": [
    "## Main"
   ]
  },
  {
   "cell_type": "code",
   "execution_count": null,
   "metadata": {},
   "outputs": [],
   "source": [
    "archivos_df = archivos_to_df(nro_de_archivo_inicial, nro_de_archivo_final, existe)\n",
    "archivos_df = marcar_repetidos_por_contacto_y_por_empresa(archivos_df)\n",
    "archivos_df = tomar_valores_unicos(archivos_df)\n",
    "#archivos_df"
   ]
  },
  {
   "cell_type": "code",
   "execution_count": null,
   "metadata": {},
   "outputs": [],
   "source": [
    "archivos_df.to_csv(\"iGTa_N_E_ok_unicos/iGTa_N\"+str(nro_de_archivo)+\"_E0_unicos.csv\")"
   ]
  },
  {
   "cell_type": "code",
   "execution_count": null,
   "metadata": {},
   "outputs": [],
   "source": []
  }
 ],
 "metadata": {
  "kernelspec": {
   "display_name": "Python 3",
   "language": "python",
   "name": "python3"
  },
  "language_info": {
   "codemirror_mode": {
    "name": "ipython",
    "version": 3
   },
   "file_extension": ".py",
   "mimetype": "text/x-python",
   "name": "python",
   "nbconvert_exporter": "python",
   "pygments_lexer": "ipython3",
   "version": "3.7.4"
  }
 },
 "nbformat": 4,
 "nbformat_minor": 4
}
