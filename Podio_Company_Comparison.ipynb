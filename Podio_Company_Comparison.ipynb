{
 "cells": [
  {
   "cell_type": "markdown",
   "metadata": {},
   "source": [
    "# Verificar existencia de las empresas en Podio"
   ]
  },
  {
   "cell_type": "markdown",
   "metadata": {},
   "source": [
    "## Files"
   ]
  },
  {
   "cell_type": "code",
   "execution_count": null,
   "metadata": {},
   "outputs": [],
   "source": [
    "# Número de archivo a crear\n",
    "nro_de_archivo = 3\n",
    "\n",
    "# existendes\n",
    "Path_Datos_Podio = 'Datos_Podio/iGTa _ StartUps y PyMEs - Última vista usada (2).xlsx' #ejemplo: 'Datos_Podio/iGTa _ StartUps y PyMEs - Última vista usada (2).xlsx'\n",
    "Path_iGTa_N = 'iGTa_N_ok/iGTa_'+str(nro_de_archivo) +'.csv'"
   ]
  },
  {
   "cell_type": "markdown",
   "metadata": {},
   "source": [
    "## Importo las librerías"
   ]
  },
  {
   "cell_type": "code",
   "execution_count": null,
   "metadata": {},
   "outputs": [],
   "source": [
    "import pandas as pd\n",
    "import numpy as np"
   ]
  },
  {
   "cell_type": "markdown",
   "metadata": {},
   "source": [
    "## Funciones"
   ]
  },
  {
   "cell_type": "code",
   "execution_count": null,
   "metadata": {},
   "outputs": [],
   "source": [
    "def limpiar_de_conectores(string):\n",
    "    eliminar = [ '™', 'la ', 'el ', 'los ', 'lo ', 'the ', 'de ', 'y ', ',', '.', ';', ':', '(', ')', '-', '_', '!', '?', 'w/', '®', '.com']\n",
    "    try:\n",
    "        if string:\n",
    "            string = string.lower()\n",
    "            for item in eliminar:\n",
    "                while string.find(item) != -1:\n",
    "                    string = string.replace(item, '')\n",
    "            return string\n",
    "    except:\n",
    "        print(\"error en limpiar_de_conectores()\")"
   ]
  },
  {
   "cell_type": "code",
   "execution_count": null,
   "metadata": {},
   "outputs": [],
   "source": [
    "def eliminar_espacios_no_utiles(string):\n",
    "    try:\n",
    "        if string:\n",
    "            string = string.lower()\n",
    "            while string[len(string)-1] == ' ':\n",
    "                aux = list(string)\n",
    "                aux.pop()\n",
    "                string = \"\".join(aux)\n",
    "            while string[0] == ' ':\n",
    "                aux = list(string)\n",
    "                aux.pop(0)\n",
    "                string = \"\".join(aux)\n",
    "            return string\n",
    "    except:\n",
    "        return string\n",
    "        print(\"error en eliminar_espacios_no_utiles()\")"
   ]
  },
  {
   "cell_type": "code",
   "execution_count": null,
   "metadata": {},
   "outputs": [],
   "source": [
    "def df_add_dimension_by_spaces (df):\n",
    "    for i in range(df.shape[0]):\n",
    "        if df[i]:\n",
    "            df[i] = str(df[i]).split(' ')\n",
    "    return df"
   ]
  },
  {
   "cell_type": "code",
   "execution_count": null,
   "metadata": {},
   "outputs": [],
   "source": [
    "# nuevo = str ; podio = df\n",
    "# existe: 1=sí 0=no 2=revisar a mano None=no hay valor en nuevo\n",
    "def comparar_nombres(nuevo, podio):\n",
    "    try:    \n",
    "        existe = 0\n",
    "        coincidencias_max = 0\n",
    "        coincidencias = 0\n",
    "        for item_p in podio: \n",
    "            if item_p:\n",
    "                if len(item_p) == 1:\n",
    "                    if len(nuevo) == 1:\n",
    "                        if item_p == nuevo:\n",
    "                            return 1\n",
    "                    elif len(nuevo) > 1:\n",
    "                        for item_n in nuevo:\n",
    "                            if item_n == item_p:\n",
    "                                coincidencias = coincidencias + 1\n",
    "                    else:\n",
    "                        return None         \n",
    "                elif len(item_p) > 1:\n",
    "                    for item_p2 in item_p:\n",
    "                        if len(nuevo) == 1:\n",
    "                            if item_p2 == nuevo:\n",
    "                                coincidencias = coincidencias + 1\n",
    "                        elif len(nuevo) > 1:\n",
    "                            for item_n in nuevo:\n",
    "                                if item_n == item_p2:\n",
    "                                    coincidencias = coincidencias + 1   \n",
    "                if ((coincidencias/len(nuevo))>(2/3))or((coincidencias / len(item_p))>(2/3))or((coincidencias/len(nuevo))==1)or((coincidencias/len(item_p))==1):\n",
    "                    return 1\n",
    "                elif coincidencias > coincidencias_max:\n",
    "                    coincidencias_max = coincidencias\n",
    "                coincidencias = 0\n",
    "        \n",
    "        if coincidencias_max >= 2:\n",
    "            return 2\n",
    "        else:\n",
    "            return 0 \n",
    "    except:\n",
    "        print(\"error en comparar_nombres()\")"
   ]
  },
  {
   "cell_type": "code",
   "execution_count": null,
   "metadata": {},
   "outputs": [],
   "source": [
    "def create_internal_df():\n",
    "    df = {'Contacto_primer_nombre': [],\n",
    "        'Contacto_nombre_completo': [],\n",
    "        'Desc': [],\n",
    "        'Mail': [],\n",
    "        'Empresa1_nombre': [],\n",
    "        'Empresa1_rol': [],\n",
    "        'Empresa1_link': [],\n",
    "        'Contacto_Linkedin': [],\n",
    "        'Empresa_nombre': [],\n",
    "        'Empresa_Linkedin': [],\n",
    "        'existe': '',\n",
    "       }\n",
    "    df = pd.DataFrame (df, columns = ['Contacto_primer_nombre', 'Contacto_nombre_completo', 'Desc', 'Mail', 'Empresa1_nombre', 'Empresa1_rol', 'Empresa1_link','Contacto_Linkedin', 'Empresa_nombre','Empresa_Linkedin', 'existe'])\n",
    "    return df"
   ]
  },
  {
   "cell_type": "code",
   "execution_count": null,
   "metadata": {},
   "outputs": [],
   "source": [
    "def generate_csv_exists_n(df, dfn, N):\n",
    "    if N == 0:\n",
    "        for i in range(0, df.shape[0]):\n",
    "            if pd.isna(df[\"existe\"][i]) == False and pd.isna(df[\"Contacto_nombre_completo\"][i]) == False and df[\"Empresa_nombre\"][i] != '':\n",
    "                if df[\"existe\"][i] == np.float64(N):\n",
    "                    dfn = dfn.append(df.loc[i], ignore_index = True)\n",
    "            else:\n",
    "                pass\n",
    "                #print(\"NAN value in 'exist' data, row \" +str(i)+\" of the csv file\")\n",
    "    elif N == 1:\n",
    "        for i in range(0, df.shape[0]):\n",
    "            if pd.isna(df[\"existe\"][i]) == False:\n",
    "                if df[\"existe\"][i] == np.float64(N):\n",
    "                    dfn = dfn.append(df.loc[i], ignore_index = True)\n",
    "            else:\n",
    "                pass\n",
    "                #print(\"NAN value in 'exist' data, row \" +str(i)+\" of the csv file\")\n",
    "    elif N == 2:\n",
    "        for i in range(0, df.shape[0]):\n",
    "            #if pd.isna(df[\"existe\"][i]) == False:\n",
    "            if df[\"existe\"][i] == np.float64(N) or (df[\"existe\"][i] != np.float64(0) and (pd.isna(df[\"Contacto_nombre_completo\"][i]) == True or df[\"Empresa_nombre\"][i] == '')):\n",
    "                dfn = dfn.append(df.loc[i], ignore_index = True)\n",
    "            else:\n",
    "                pass\n",
    "                #print(\"NAN value in 'exist' data, row \" +str(i)+\" of the csv file\")\n",
    "    return dfn"
   ]
  },
  {
   "cell_type": "markdown",
   "metadata": {},
   "source": [
    "## Main program"
   ]
  },
  {
   "cell_type": "code",
   "execution_count": null,
   "metadata": {},
   "outputs": [],
   "source": [
    "En_Podio = pd.read_excel(Path_Datos_Podio)[\"Nombre del organización\"]\n",
    "new_file = pd.read_csv(Path_iGTa_N)\n",
    "for_check = new_file[\"Empresa_nombre\"].copy()\n",
    "\n",
    "for i in range(0, len(for_check)):\n",
    "    for_check[i] = eliminar_espacios_no_utiles(limpiar_de_conectores(for_check[i]))\n",
    "for i in range(0, len(En_Podio)):\n",
    "    En_Podio[i] = eliminar_espacios_no_utiles(limpiar_de_conectores(En_Podio[i]))\n",
    "\n",
    "En_Podio = df_add_dimension_by_spaces(En_Podio)\n",
    "for_check = df_add_dimension_by_spaces(for_check)\n",
    "\n",
    "existe = []\n",
    "for item in for_check:\n",
    "    existe.append(comparar_nombres(item, En_Podio))\n",
    "\n",
    "new_file[\"existe\"] = pd.DataFrame(existe, columns = [\"existe\"])\n",
    "#new_file"
   ]
  },
  {
   "cell_type": "code",
   "execution_count": null,
   "metadata": {},
   "outputs": [],
   "source": [
    "new_file_0 = create_internal_df()\n",
    "new_file_1 = create_internal_df()\n",
    "new_file_2 = create_internal_df()\n",
    "\n",
    "new_file_0 = generate_csv_exists_n(new_file, new_file_0, 0)\n",
    "new_file_1 = generate_csv_exists_n(new_file, new_file_1, 1)\n",
    "new_file_2 = generate_csv_exists_n(new_file, new_file_2, 2)"
   ]
  },
  {
   "cell_type": "code",
   "execution_count": null,
   "metadata": {},
   "outputs": [],
   "source": [
    "print(len(new_file_0),len(new_file_1), len(new_file_2))"
   ]
  },
  {
   "cell_type": "code",
   "execution_count": null,
   "metadata": {},
   "outputs": [],
   "source": [
    "count = 0\n",
    "for i in range(0, len(new_file_0)):\n",
    "    if pd.isna(new_file_0[\"Contacto_nombre_completo\"][i]) == True:\n",
    "        count = count + 1\n",
    "print(\"count of nulls in N0: \" + str(count))"
   ]
  },
  {
   "cell_type": "code",
   "execution_count": null,
   "metadata": {},
   "outputs": [],
   "source": [
    "new_file_0.to_csv(\"iGTa_N_E_ok/iGTa_N\"+str(nro_de_archivo)+\"_E0.csv\")\n",
    "new_file_1.to_csv(\"iGTa_N_E_ok/iGTa_N\"+str(nro_de_archivo)+\"_E1.csv\")\n",
    "new_file_2.to_csv(\"iGTa_N_E_ok/iGTa_N\"+str(nro_de_archivo)+\"_E2.csv\")"
   ]
  }
 ],
 "metadata": {
  "kernelspec": {
   "display_name": "Python 3",
   "language": "python",
   "name": "python3"
  },
  "language_info": {
   "codemirror_mode": {
    "name": "ipython",
    "version": 3
   },
   "file_extension": ".py",
   "mimetype": "text/x-python",
   "name": "python",
   "nbconvert_exporter": "python",
   "pygments_lexer": "ipython3",
   "version": "3.7.4"
  }
 },
 "nbformat": 4,
 "nbformat_minor": 4
}
