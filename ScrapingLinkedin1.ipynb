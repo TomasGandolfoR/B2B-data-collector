{
 "cells": [
  {
   "cell_type": "markdown",
   "metadata": {},
   "source": [
    "# Files a usar"
   ]
  },
  {
   "cell_type": "code",
   "execution_count": null,
   "metadata": {},
   "outputs": [],
   "source": [
    "# nro de archivo a crear\n",
    "nro_de_archivo = 3\n",
    "\n",
    "# archivos existentes\n",
    "Path_Data_N = 'data_N_ok/data_'+str(nro_de_archivo)+'.csv' #ejemplo:\n",
    "\n",
    "# tiempos random por búsqueda\n",
    "tiempo_max = 2\n",
    "tiempo_min = 0.5"
   ]
  },
  {
   "cell_type": "markdown",
   "metadata": {},
   "source": [
    "# Inicio sesión en linkedin"
   ]
  },
  {
   "cell_type": "code",
   "execution_count": null,
   "metadata": {},
   "outputs": [],
   "source": [
    "# importo el web driver\n",
    "import time\n",
    "from selenium import webdriver\n",
    "\n",
    "# especifico la dirección de chromedriver.exe\n",
    "driver = webdriver.Chrome()\n",
    "\n",
    "# driver.get method() navega a la URL que se le indique\n",
    "driver.get('https://www.linkedin.com')\n",
    "\n",
    "# localiza el email form by_class_name\n",
    "username = driver.find_element_by_class_name('input__input')\n",
    "\n",
    "# send_keys() to simulate key strokes\n",
    "username.send_keys('example@gmail.com')\n",
    "# sleep for 0.5 seconds\n",
    "time.sleep(0.5)\n",
    "\n",
    "# locate password form by_id\n",
    "password = driver.find_element_by_id('session_password')\n",
    "\n",
    "# send_keys() to simulate key strokes\n",
    "password.send_keys('write_your_password')\n",
    "# sleep for 0.5 seconds\n",
    "time.sleep(0.5)\n",
    "\n",
    "# locate submit button by_class_name\n",
    "log_in_button = driver.find_element_by_class_name('sign-in-form__submit-button')\n",
    "# .click() to mimic button click\n",
    "log_in_button.click()"
   ]
  },
  {
   "cell_type": "code",
   "execution_count": null,
   "metadata": {},
   "outputs": [],
   "source": [
    "import numpy as np\n",
    "def nro_random(multiplicador, piso = 0.01):\n",
    "    tiempo = 0\n",
    "    while tiempo < piso:\n",
    "        tiempo = np.random.random() * multiplicador\n",
    "    return tiempo "
   ]
  },
  {
   "cell_type": "markdown",
   "metadata": {},
   "source": [
    "# Main"
   ]
  },
  {
   "cell_type": "code",
   "execution_count": null,
   "metadata": {},
   "outputs": [],
   "source": [
    "import pandas as pd\n",
    "\n",
    "df = pd.read_csv(Path_Data_N)\n",
    "df_link_empresa = df[\"link_empresa\"]\n",
    "df = df['link_contacto']"
   ]
  },
  {
   "cell_type": "code",
   "execution_count": null,
   "metadata": {},
   "outputs": [],
   "source": [
    "#después tengo que meter eesto en un for para recorrer el dataframe\n",
    "driver_text = driver.page_source\n",
    "nombre = rol = mail = '' \n",
    "link_empresa = []\n",
    "rol_empresa = []\n",
    "nombre_empresa = []\n",
    "\n",
    "data = {'Contacto_primer_nombre': [],\n",
    "        'Contacto_nombre_completo': nombre,\n",
    "        'Contacto_Linkedin': [],\n",
    "        'Desc': [],\n",
    "        'Mail': [],\n",
    "        'Empresa1_nombre': [],\n",
    "        'Empresa1_rol': [],\n",
    "        'Empresa1_link': [],\n",
    "       }\n",
    "\n",
    "data = pd.DataFrame (data, columns = ['Contacto_primer_nombre', 'Contacto_nombre_completo', 'Desc', 'Mail', 'Empresa1_nombre', 'Empresa1_rol', 'Empresa1_link'])\n",
    "\n",
    "i = 0\n",
    "indice = len('https://www.linkedin.com/company/')\n",
    "\n",
    "for item in df:\n",
    "    \n",
    "    linkedin_info_url = item\n",
    "\n",
    "    try:\n",
    "\n",
    "        driver.get(linkedin_info_url)\n",
    "\n",
    "        time.sleep(nro_random(tiempo_max, tiempo_min))\n",
    "\n",
    "        driver_text = driver.page_source\n",
    "        nombre = rol = mail = '' \n",
    "        link_empresa = []\n",
    "        rol_empresa = []\n",
    "        nombre_empresa = []\n",
    "\n",
    "        if driver_text.find(df_link_empresa[i][indice:]) != -1:\n",
    "            \n",
    "            aux = driver.page_source.find('inline t-24 t-black t-normal break-words')\n",
    "            driver_text = driver.page_source[aux+len('inline t-24 t-black t-normal break-words\">\\n            '):]\n",
    "            nombre = driver_text[:driver_text.find(\"\\n\")]\n",
    "\n",
    "            aux = driver_text.find('<h2 class=\"mt1 t-18 t-black t-normal break-words\">\\n            ')\n",
    "            driver_text = driver_text[aux+len('<h2 class=\"mt1 t-18 t-black t-normal break-words\">\\n            '):]\n",
    "            rol = driver_text[:driver_text.find(\"\\n\")]\n",
    "\n",
    "            aux = driver_text.find('data-control-name=\"background_details_company\" href=\"')\n",
    "            driver_text = driver_text[aux+len('data-control-name=\"background_details_company\" href=\"'):]\n",
    "            link_empresa.append('https://www.linkedin.com/' + driver_text[:driver_text.find('\" id=')])\n",
    "\n",
    "            aux = driver_text.find('class=\"t-16 t-black t-bold\">')\n",
    "            driver_text = driver_text[aux+len('class=\"t-16 t-black t-bold\">'):]\n",
    "            rol_empresa.append(driver_text[:driver_text.find('</h3>')])\n",
    "\n",
    "            aux = driver_text.find('class=\"pv-entity__secondary-title t-14 t-black t-normal\">\\n      ')\n",
    "            driver_text = driver_text[aux+len('class=\"pv-entity__secondary-title t-14 t-black t-normal\">\\n      '):]\n",
    "            nombre_empresa.append(driver_text[:driver_text.find('\\n')])\n",
    "\n",
    "            aux = driver_text.find('class=\"t-14 t-black--light t-normal\"')\n",
    "            driver_text = driver_text[aux+len('class=\"t-14 t-black--light t-normal\"'):]\n",
    "\n",
    "            time.sleep(nro_random(tiempo_max, tiempo_min))\n",
    "\n",
    "            #Busco el mail\n",
    "            try:\n",
    "                linkedin_info_url2 = 'https://www.' + df[i][df[i].find('linkedin'):] + '/detail/contact-info'\n",
    "                driver.get(linkedin_info_url2)\n",
    "\n",
    "                driver_text = driver.page_source\n",
    "                aux = driver_text.find('href=\"mailto:')\n",
    "                if aux != -1:\n",
    "                    driver_text = driver_text[aux+len('href=\"mailto:'):]\n",
    "                    mail = driver_text[:driver_text.find('\"')]\n",
    "            except:\n",
    "                print(\"exception1\")\n",
    "                pass\n",
    "\n",
    "            new_row = {'Contacto_primer_nombre': nombre[:nombre.find(\" \")],\n",
    "                       'Contacto_nombre_completo': nombre,\n",
    "                        'Contacto_Linkedin': linkedin_info_url,\n",
    "                        'Desc': rol,\n",
    "                        'Mail': mail,\n",
    "                        'Empresa1_nombre': nombre_empresa[0],\n",
    "                        'Empresa1_rol': rol_empresa[0],\n",
    "                        'Empresa1_link': link_empresa[0],\n",
    "                       }\n",
    "\n",
    "            data = data.append(new_row, ignore_index=True)\n",
    "\n",
    "        else:\n",
    "            new_row = {'Contacto_primer_nombre': '',\n",
    "                   'Contacto_nombre_completo': '',\n",
    "                    'Contacto_Linkedin': item,\n",
    "                    'Desc': '',\n",
    "                    'Mail': '',\n",
    "                    'Empresa1_nombre': '',\n",
    "                    'Empresa1_rol': '',\n",
    "                    'Empresa1_link': '',\n",
    "                   }\n",
    "            data = data.append(new_row, ignore_index=True)\n",
    "        i = i+1\n",
    "    except:\n",
    "        print(\"exception2\")\n",
    "        new_row = {'Contacto_primer_nombre': '',\n",
    "                   'Contacto_nombre_completo': '',\n",
    "                    'Contacto_Linkedin': item,\n",
    "                    'Desc': '',\n",
    "                    'Mail': '',\n",
    "                    'Empresa1_nombre': '',\n",
    "                    'Empresa1_rol': '',\n",
    "                    'Empresa1_link': '',\n",
    "                   }\n",
    "\n",
    "        data = data.append(new_row, ignore_index=True)\n",
    "        i = i+1"
   ]
  },
  {
   "cell_type": "code",
   "execution_count": null,
   "metadata": {},
   "outputs": [],
   "source": [
    "data_contacto = data.copy()\n",
    "print(len(data_contacto))\n",
    "data_contacto"
   ]
  },
  {
   "cell_type": "markdown",
   "metadata": {},
   "source": [
    "# Descargo el nombre de la empresa"
   ]
  },
  {
   "cell_type": "code",
   "execution_count": null,
   "metadata": {},
   "outputs": [],
   "source": [
    "import pandas as pd\n",
    "df = pd.read_csv(Path_Data_N)\n",
    "df = df['link_empresa']\n",
    "df.head(2)"
   ]
  },
  {
   "cell_type": "code",
   "execution_count": null,
   "metadata": {},
   "outputs": [],
   "source": [
    "#después tengo que meter eesto en un for para recorrer el dataframe\n",
    "driver_text = driver.page_source\n",
    "nombre = rol = mail = '' \n",
    "link_empresa = []\n",
    "rol_empresa = []\n",
    "nombre_empresa = []\n",
    "\n",
    "data = None\n",
    "data = {'Empresa_nombre': [],\n",
    "        'Empresa_Linkedin': [],\n",
    "       }\n",
    "\n",
    "data = pd.DataFrame (data, columns = ['Empresa_nombre','Empresa_Linkedin'])\n",
    "\n",
    "tiempo = 0\n",
    "tiempo2 = 1\n",
    "\n",
    "for item in df:\n",
    "#for i in range(0,1):    \n",
    "    linkedin_info_url = item\n",
    "    try:\n",
    "        driver.get(linkedin_info_url)\n",
    "\n",
    "        time.sleep(nro_random(tiempo_max, tiempo_min))\n",
    "        \n",
    "        driver_text = driver.page_source\n",
    "        nombre = rol = mail = '' \n",
    "        link_empresa = []\n",
    "        rol_empresa = []\n",
    "        nombre_empresa = []\n",
    "\n",
    "        if driver_text.find('org-top-card-summary__title t-24 t-black truncate') != -1:\n",
    "\n",
    "            aux = driver.page_source.find('org-top-card-summary__title t-24 t-black truncate')\n",
    "            driver_text = driver.page_source[aux+len('org-top-card-summary__title t-24 t-black truncate\" title=\"'):]\n",
    "            nombre = driver_text[:driver_text.find(\">\")-1]\n",
    "            \n",
    "            print(nombre)\n",
    "\n",
    "            new_row = {'Empresa_nombre': nombre,\n",
    "                       'Empresa_Linkedin': item\n",
    "                       }\n",
    "\n",
    "            data = data.append(new_row, ignore_index=True)\n",
    "        else:\n",
    "            new_row = {'Empresa_nombre': '',\n",
    "                   'Empresa_Linkedin': item\n",
    "                   }\n",
    "\n",
    "            data = data.append(new_row, ignore_index=True)\n",
    "    except:\n",
    "        new_row = {'Empresa_nombre': '',\n",
    "                   'Empresa_Linkedin': item\n",
    "                   }\n",
    "\n",
    "        data = data.append(new_row, ignore_index=True)"
   ]
  },
  {
   "cell_type": "code",
   "execution_count": null,
   "metadata": {},
   "outputs": [],
   "source": [
    "data"
   ]
  },
  {
   "cell_type": "code",
   "execution_count": null,
   "metadata": {},
   "outputs": [],
   "source": [
    "data_empresa = data.copy()\n",
    "data_empresa.head()"
   ]
  },
  {
   "cell_type": "code",
   "execution_count": null,
   "metadata": {},
   "outputs": [],
   "source": [
    "len(data_empresa)"
   ]
  },
  {
   "cell_type": "code",
   "execution_count": null,
   "metadata": {},
   "outputs": [],
   "source": [
    "print(len(data_empresa), len(data_contacto))"
   ]
  },
  {
   "cell_type": "code",
   "execution_count": null,
   "metadata": {},
   "outputs": [],
   "source": [
    "#data_empresa.to_csv(r'empresas_1.csv', index = False)"
   ]
  },
  {
   "cell_type": "code",
   "execution_count": null,
   "metadata": {},
   "outputs": [],
   "source": [
    "data_final = data_contacto.copy()\n",
    "data_final[\"Empresa_nombre\"] = data_empresa[\"Empresa_nombre\"]\n",
    "data_final[\"Empresa_Linkedin\"] = data_empresa[\"Empresa_Linkedin\"]\n",
    "data_final.head()"
   ]
  },
  {
   "cell_type": "code",
   "execution_count": null,
   "metadata": {},
   "outputs": [],
   "source": [
    "data_final.to_csv(r'iGTa_N_ok/iGTa_'+str(nro_de_archivo) +'.csv', index = False)"
   ]
  }
 ],
 "metadata": {
  "kernelspec": {
   "display_name": "Python 3",
   "language": "python",
   "name": "python3"
  },
  "language_info": {
   "codemirror_mode": {
    "name": "ipython",
    "version": 3
   },
   "file_extension": ".py",
   "mimetype": "text/x-python",
   "name": "python",
   "nbconvert_exporter": "python",
   "pygments_lexer": "ipython3",
   "version": "3.7.4"
  }
 },
 "nbformat": 4,
 "nbformat_minor": 4
}
