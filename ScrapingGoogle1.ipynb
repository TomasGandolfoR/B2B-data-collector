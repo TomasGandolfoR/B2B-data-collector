{
 "cells": [
  {
   "cell_type": "markdown",
   "metadata": {},
   "source": [
    "## buscando en google"
   ]
  },
  {
   "cell_type": "code",
   "execution_count": 14,
   "metadata": {},
   "outputs": [],
   "source": [
    "# importo el web driver\n",
    "import time\n",
    "from selenium import webdriver\n",
    "\n",
    "# especifico la dirección de chromedriver.exe\n",
    "driver = webdriver.Chrome()\n",
    "\n",
    "driver.get('https:www.google.com')\n",
    "time.sleep(1)\n",
    "\n",
    "search_query = driver.find_element_by_name('q')\n",
    "search_query.send_keys('site:linkedin.com/in/ AND (\"Founder\" OR \"Co-founder\" OR \"Co-Founder\" OR \"CEO\") AND \"Buenos Aires\"')\n",
    "time.sleep(0.5)"
   ]
  },
  {
   "cell_type": "code",
   "execution_count": 15,
   "metadata": {},
   "outputs": [],
   "source": [
    "search_query.send_keys(webdriver.common.keys.Keys.RETURN)"
   ]
  },
  {
   "cell_type": "code",
   "execution_count": 16,
   "metadata": {},
   "outputs": [],
   "source": [
    "#time.sleep(3)\n",
    "linkedin_urls = driver.find_elements_by_class_name('r')\n",
    "linkedin_urls2 = [url.text for url in linkedin_urls]"
   ]
  },
  {
   "cell_type": "code",
   "execution_count": 17,
   "metadata": {},
   "outputs": [],
   "source": [
    "linkedin_urls2 = []\n",
    "for i in range(16, 32):\n",
    "    driver.get('https://www.google.com/search?q=site:linkedin.com/in/+AND+(%22Founder%22+OR+%22Co-founder%22+OR+%22Co-Founder%22+OR+%22CEO%22)+AND+%22Buenos+Aires%22&ei=WGJkX8XyDqXD5OUPnvecyAo&start='\n",
    "               + str(i*10) +\n",
    "               '&sa=N&ved=2ahUKEwjF_vvsl_LrAhWlIbkGHZ47B6k4FBDy0wN6BAgMEC8&biw=1366&bih=623')\n",
    "    linkedin_urls = driver.find_elements_by_class_name('eipWBe')\n",
    "    for item in linkedin_urls:\n",
    "        linkedin_urls2.append(item.text)"
   ]
  },
  {
   "cell_type": "code",
   "execution_count": 25,
   "metadata": {
    "collapsed": true,
    "jupyter": {
     "outputs_hidden": true
    }
   },
   "outputs": [
    {
     "data": {
      "text/plain": [
       "['https://www.linkedin.com/in/patrickmaio',\n",
       " 'https://www.linkedin.com/in/jmcarrascal',\n",
       " 'https://www.linkedin.com/in/franco-monsalvo-42579329',\n",
       " 'https://www.linkedin.com/in/danielnegrotto',\n",
       " 'https://www.linkedin.com/in/danielserra',\n",
       " 'https://www.linkedin.com/in/leonardo-rubinstein',\n",
       " 'https://www.linkedin.com/in/eduardowegman',\n",
       " 'https://www.linkedin.com/in/pjuanes',\n",
       " 'https://www.linkedin.com/in/orlandopablo',\n",
       " 'https://www.linkedin.com/in/luquidiaz',\n",
       " 'https://www.linkedin.com/in/marceloscaglione',\n",
       " 'https://www.linkedin.com/in/ramirogramajo',\n",
       " 'https://www.linkedin.com/in/maximolorenzo',\n",
       " 'https://www.linkedin.com/in/ipuigmoreno',\n",
       " 'https://www.linkedin.com/in/demian-gawianski',\n",
       " 'https://www.linkedin.com/in/jonetto',\n",
       " 'https://www.linkedin.com/in/marcos-botta-ba948630',\n",
       " 'https://www.linkedin.com/in/alexander-vicondoa',\n",
       " 'https://www.linkedin.com/in/kevingoreglad',\n",
       " 'https://www.linkedin.com/in/julian-herbstein-18256',\n",
       " 'https://www.linkedin.com/in/diegoquintana',\n",
       " 'https://www.linkedin.com/in/patriciasantamarina',\n",
       " 'https://www.linkedin.com/in/pabloponcini',\n",
       " 'https://www.linkedin.com/in/yuyo-llamazares-vegh-42221164',\n",
       " 'https://www.linkedin.com/in/diegogoris',\n",
       " 'https://www.linkedin.com/in/robertogonzalez',\n",
       " 'https://www.linkedin.com/in/damianlacapra',\n",
       " 'https://www.linkedin.com/in/pablocroci',\n",
       " 'https://www.linkedin.com/in/ezequielapfel',\n",
       " 'https://www.linkedin.com/in/pablomsanchez',\n",
       " 'https://www.linkedin.com/in/gonzalobegino',\n",
       " 'https://www.linkedin.com/in/franokecki',\n",
       " 'https://www.linkedin.com/in/fernando-capalbo-67972210',\n",
       " 'https://www.linkedin.com/in/joaquín-zoilo-vedoya-89597347',\n",
       " 'https://www.linkedin.com/in/gesualdob',\n",
       " 'https://www.linkedin.com/in/mariano-bo',\n",
       " 'https://www.linkedin.com/in/rafasoto',\n",
       " 'https://www.linkedin.com/in/luis-galeazzi-a4889514',\n",
       " 'https://www.linkedin.com/in/javier-pastorino-6163297',\n",
       " 'https://www.linkedin.com/in/nicobisso',\n",
       " 'https://www.linkedin.com/in/ricardoceci',\n",
       " 'https://www.linkedin.com/in/rodolfoalonso',\n",
       " 'https://www.linkedin.com/in/santiagoortizdemarco',\n",
       " 'https://www.linkedin.com/in/diegobekerman',\n",
       " 'https://www.linkedin.com/in/mariacelestemedina',\n",
       " 'https://www.linkedin.com/in/gonzalezrod',\n",
       " 'https://www.linkedin.com/in/amsakkal',\n",
       " 'https://www.linkedin.com/in/carlos-abril-4641381',\n",
       " 'https://www.linkedin.com/in/fernandostraminsky',\n",
       " 'https://www.linkedin.com/in/noelia-aguirre-fernández-29865213',\n",
       " 'https://www.linkedin.com/in/ignaciocarcavallo',\n",
       " 'https://www.linkedin.com/in/alejandroalfonso',\n",
       " 'https://www.linkedin.com/in/horacioacerbo',\n",
       " 'https://www.linkedin.com/in/santiagolivera',\n",
       " 'https://www.linkedin.com/in/maximiliano-gonzalez-kunz-',\n",
       " 'https://www.linkedin.com/in/felipeherrerazoppi',\n",
       " 'https://www.linkedin.com/in/martinc',\n",
       " 'https://www.linkedin.com/in/diegro',\n",
       " 'https://www.linkedin.com/in/albertoperezcassinelli',\n",
       " 'https://www.linkedin.com/in/diego-garcia-frances',\n",
       " 'https://www.linkedin.com/in/hugosigman',\n",
       " 'https://www.linkedin.com/in/devarela',\n",
       " 'https://www.linkedin.com/in/federicobianchiharrington',\n",
       " 'https://www.linkedin.com/in/tomas-giovanetti-948135191',\n",
       " 'https://www.linkedin.com/in/hernan-vera-938619113',\n",
       " 'https://www.linkedin.com/in/juanxgruss',\n",
       " 'https://www.linkedin.com/in/fedek',\n",
       " 'https://www.linkedin.com/in/guillermo-nestor-perez-81482921',\n",
       " 'https://www.linkedin.com/in/nicolás-pimentel-8038696',\n",
       " 'https://www.linkedin.com/in/frangsalaverri',\n",
       " 'https://www.linkedin.com/in/gaston-remy-0928585',\n",
       " 'https://www.linkedin.com/in/hernanpuente',\n",
       " 'https://www.linkedin.com/in/marinasalati',\n",
       " 'https://www.linkedin.com/in/matiaspeire',\n",
       " 'https://www.linkedin.com/in/federicollano',\n",
       " 'https://www.linkedin.com/in/luisbarrenechea',\n",
       " 'https://www.linkedin.com/in/martinboschetti',\n",
       " 'https://www.linkedin.com/in/stefano-angeli',\n",
       " 'https://www.linkedin.com/in/icapodanno',\n",
       " 'https://www.linkedin.com/in/matiaslonardi',\n",
       " 'https://www.linkedin.com/in/keyserfaty',\n",
       " 'https://www.linkedin.com/in/damianhoraciohernaez',\n",
       " 'https://www.linkedin.com/in/eugeniocaldararo',\n",
       " 'https://www.linkedin.com/in/juan-jose-debuchy-bb176457',\n",
       " 'https://www.linkedin.com/in/pub6658540',\n",
       " 'https://www.linkedin.com/in/diegobelli',\n",
       " 'https://www.linkedin.com/in/hernantrinidad',\n",
       " 'https://www.linkedin.com/in/marcosluis',\n",
       " 'https://www.linkedin.com/in/facucorsi',\n",
       " 'https://www.linkedin.com/in/guidosirna',\n",
       " 'https://www.linkedin.com/in/noelpriego',\n",
       " 'https://www.linkedin.com/in/martin-fila',\n",
       " 'https://www.linkedin.com/in/martin-zuker',\n",
       " 'https://www.linkedin.com/in/esteban-zecler-919428',\n",
       " 'https://www.linkedin.com/in/federicoast',\n",
       " 'https://www.linkedin.com/in/patriciopagani',\n",
       " 'https://www.linkedin.com/in/diegosternberg',\n",
       " 'https://www.linkedin.com/in/mariayomaen-us',\n",
       " 'https://www.linkedin.com/in/andyalterini',\n",
       " 'https://www.linkedin.com/in/defernandez',\n",
       " 'https://www.linkedin.com/in/adybeitler',\n",
       " 'https://www.linkedin.com/in/fernando-balbachan',\n",
       " 'https://www.linkedin.com/in/gustavo-hansen-07879050',\n",
       " 'https://www.linkedin.com/in/veronica-sonia-iesu-48783614',\n",
       " 'https://www.linkedin.com/in/diegonoriega',\n",
       " 'https://www.linkedin.com/in/mlorfano',\n",
       " 'https://www.linkedin.com/in/hokama',\n",
       " 'https://www.linkedin.com/in/msarsale',\n",
       " 'https://www.linkedin.com/in/gabrielmarcolongo',\n",
       " 'https://www.linkedin.com/in/pablo-born-987193106',\n",
       " 'https://www.linkedin.com/in/sebastiancadenas',\n",
       " 'https://www.linkedin.com/in/cote-buenos-aires-6aab7011a',\n",
       " 'https://www.linkedin.com/in/leomigdal',\n",
       " 'https://www.linkedin.com/in/ppagniez']"
      ]
     },
     "execution_count": 25,
     "metadata": {},
     "output_type": "execute_result"
    }
   ],
   "source": [
    "linkedin_urls2"
   ]
  },
  {
   "cell_type": "code",
   "execution_count": 22,
   "metadata": {},
   "outputs": [],
   "source": [
    "for i in range(0, len(linkedin_urls2)):\n",
    "    if (linkedin_urls2[i].find('...') != -1) or (linkedin_urls2[i].find('..') != -1) or (linkedin_urls2[i] == ''):\n",
    "        linkedin_urls2.pop(i)"
   ]
  },
  {
   "cell_type": "code",
   "execution_count": 24,
   "metadata": {},
   "outputs": [],
   "source": [
    "linkedin_urls2 = [item.replace(\"›\", \"\") for item in linkedin_urls2]\n",
    "linkedin_urls2 = [item.replace(\" \", \"\") for item in linkedin_urls2]\n",
    "linkedin_urls2 = [item.replace(\"es-es\", \"\") for item in linkedin_urls2]\n",
    "linkedin_urls2 = [item.replace(\"zh-cn\", \"\") for item in linkedin_urls2]\n",
    "linkedin_urls2 = [('https://www.linkedin.com/in/'+item) for item in linkedin_urls2]"
   ]
  },
  {
   "cell_type": "code",
   "execution_count": 26,
   "metadata": {},
   "outputs": [],
   "source": [
    "from pandas import DataFrame\n",
    "df = DataFrame(linkedin_urls2,columns=['Column_Name'])\n",
    "df.to_csv(r'linkedin4.csv', index = False)"
   ]
  },
  {
   "cell_type": "markdown",
   "metadata": {},
   "source": [
    "# Esto no va jeje"
   ]
  },
  {
   "cell_type": "code",
   "execution_count": 27,
   "metadata": {},
   "outputs": [
    {
     "data": {
      "text/plain": [
       "114"
      ]
     },
     "execution_count": 27,
     "metadata": {},
     "output_type": "execute_result"
    }
   ],
   "source": [
    "import pandas as pd\n",
    "df = pd.read_csv('linkedin4.csv')\n",
    "len(df)"
   ]
  },
  {
   "cell_type": "code",
   "execution_count": 20,
   "metadata": {},
   "outputs": [
    {
     "data": {
      "text/html": [
       "<div>\n",
       "<style scoped>\n",
       "    .dataframe tbody tr th:only-of-type {\n",
       "        vertical-align: middle;\n",
       "    }\n",
       "\n",
       "    .dataframe tbody tr th {\n",
       "        vertical-align: top;\n",
       "    }\n",
       "\n",
       "    .dataframe thead th {\n",
       "        text-align: right;\n",
       "    }\n",
       "</style>\n",
       "<table border=\"1\" class=\"dataframe\">\n",
       "  <thead>\n",
       "    <tr style=\"text-align: right;\">\n",
       "      <th></th>\n",
       "      <th>Column_Name</th>\n",
       "    </tr>\n",
       "  </thead>\n",
       "  <tbody>\n",
       "    <tr>\n",
       "      <th>0</th>\n",
       "      <td>https://www.linkedin.com/in/gabrielgruber</td>\n",
       "    </tr>\n",
       "    <tr>\n",
       "      <th>1</th>\n",
       "      <td>https://www.linkedin.com/in/santiagoechazu</td>\n",
       "    </tr>\n",
       "    <tr>\n",
       "      <th>2</th>\n",
       "      <td>https://www.linkedin.com/in/sebastianserrano</td>\n",
       "    </tr>\n",
       "    <tr>\n",
       "      <th>3</th>\n",
       "      <td>https://www.linkedin.com/in/alejandrocosentino</td>\n",
       "    </tr>\n",
       "    <tr>\n",
       "      <th>4</th>\n",
       "      <td>https://www.linkedin.com/in/germandyzenchauz</td>\n",
       "    </tr>\n",
       "    <tr>\n",
       "      <th>...</th>\n",
       "      <td>...</td>\n",
       "    </tr>\n",
       "    <tr>\n",
       "      <th>113</th>\n",
       "      <td>https://www.linkedin.com/in/danpatino</td>\n",
       "    </tr>\n",
       "    <tr>\n",
       "      <th>114</th>\n",
       "      <td>https://www.linkedin.com/in/francisco-siutti-2...</td>\n",
       "    </tr>\n",
       "    <tr>\n",
       "      <th>115</th>\n",
       "      <td>https://www.linkedin.com/in/danielnegrotto</td>\n",
       "    </tr>\n",
       "    <tr>\n",
       "      <th>116</th>\n",
       "      <td>https://www.linkedin.com/in/fedegona</td>\n",
       "    </tr>\n",
       "    <tr>\n",
       "      <th>117</th>\n",
       "      <td>https://www.linkedin.com/in/horaciocuervo</td>\n",
       "    </tr>\n",
       "  </tbody>\n",
       "</table>\n",
       "<p>118 rows × 1 columns</p>\n",
       "</div>"
      ],
      "text/plain": [
       "                                           Column_Name\n",
       "0            https://www.linkedin.com/in/gabrielgruber\n",
       "1           https://www.linkedin.com/in/santiagoechazu\n",
       "2         https://www.linkedin.com/in/sebastianserrano\n",
       "3       https://www.linkedin.com/in/alejandrocosentino\n",
       "4         https://www.linkedin.com/in/germandyzenchauz\n",
       "..                                                 ...\n",
       "113              https://www.linkedin.com/in/danpatino\n",
       "114  https://www.linkedin.com/in/francisco-siutti-2...\n",
       "115         https://www.linkedin.com/in/danielnegrotto\n",
       "116               https://www.linkedin.com/in/fedegona\n",
       "117          https://www.linkedin.com/in/horaciocuervo\n",
       "\n",
       "[118 rows x 1 columns]"
      ]
     },
     "execution_count": 20,
     "metadata": {},
     "output_type": "execute_result"
    }
   ],
   "source": [
    "df = df.applymap(lambda x: x[len('https://www.linkedin.com/in/'):])\n",
    "#df = df.applymap(lambda x: x.replace('pipojojo', 'https://www.linkedin.com/in/'))\n",
    "df"
   ]
  },
  {
   "cell_type": "code",
   "execution_count": 21,
   "metadata": {},
   "outputs": [],
   "source": [
    "df.to_csv(r'linkedin2.csv', index = False)"
   ]
  },
  {
   "cell_type": "code",
   "execution_count": null,
   "metadata": {},
   "outputs": [],
   "source": []
  }
 ],
 "metadata": {
  "kernelspec": {
   "display_name": "Python 3",
   "language": "python",
   "name": "python3"
  },
  "language_info": {
   "codemirror_mode": {
    "name": "ipython",
    "version": 3
   },
   "file_extension": ".py",
   "mimetype": "text/x-python",
   "name": "python",
   "nbconvert_exporter": "python",
   "pygments_lexer": "ipython3",
   "version": "3.7.4"
  }
 },
 "nbformat": 4,
 "nbformat_minor": 4
}
