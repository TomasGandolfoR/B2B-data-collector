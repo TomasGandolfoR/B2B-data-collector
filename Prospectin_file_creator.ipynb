{
 "cells": [
  {
   "cell_type": "markdown",
   "metadata": {},
   "source": [
    "# Creo el File de Prospectin"
   ]
  },
  {
   "cell_type": "code",
   "execution_count": null,
   "metadata": {},
   "outputs": [],
   "source": [
    "import pandas as pd\n",
    "\n",
    "nro_de_archivo = 1\n",
    "existe = 0"
   ]
  },
  {
   "cell_type": "code",
   "execution_count": null,
   "metadata": {},
   "outputs": [],
   "source": [
    "def row_creator(row):\n",
    "    apellido = ''\n",
    "    if len(row['Contacto_primer_nombre']) == len(row['Contacto_nombre_completo']):\n",
    "        apellido = row['Contacto_nombre_completo']\n",
    "    else:\n",
    "        apellido = row['Contacto_nombre_completo'][len(row['Contacto_primer_nombre'])+1:]\n",
    "    new_row = {'Nombre': row['Contacto_primer_nombre'], \n",
    "               'Apellido': apellido, \n",
    "               'Correo electrónico': '', \n",
    "               'Empresa': row['Empresa_nombre'], \n",
    "               'Posición': row['Desc'],\n",
    "               'Influencer': '', \n",
    "               'Solicitante de empleo': '', \n",
    "               'Premium': '', \n",
    "               'Estatus': '',\n",
    "               'Mensaje enviado': 'No', \n",
    "               'Seguido': '', \n",
    "               'Respondió': 'No', \n",
    "               'Campaña': '',\n",
    "               'Fecha de exportación': '',\n",
    "               'Región': '',\n",
    "               'Link del perfil de LinkedIn': 'https://www'+row['Contacto_Linkedin'][row['Contacto_Linkedin'].find('.linkedin.'):],\n",
    "               'Link del perfil de LinkedIn SN': '',\n",
    "               'Tags': '',\n",
    "               'Fecha de conexión': 'N.A',\n",
    "               'Fecha de primer mensaje enviado': 'N.A',\n",
    "               'Teléfono': '',\n",
    "                }\n",
    "    return new_row"
   ]
  },
  {
   "cell_type": "code",
   "execution_count": null,
   "metadata": {},
   "outputs": [],
   "source": [
    "def pasar_datos(nuevo_df, plantilla_df):\n",
    "    for row in range(0, int(nuevo_df.shape[0])):\n",
    "        plantilla_df = plantilla_df.append(row_creator(nuevo_df.loc[row]), ignore_index=True)\n",
    "    return plantilla_df"
   ]
  },
  {
   "cell_type": "code",
   "execution_count": null,
   "metadata": {},
   "outputs": [],
   "source": [
    "plantilla_df = pd.read_csv('Prospectin_files/Plantilla.csv', sep = ';')\n",
    "nuevo_df = pd.read_csv('iGTa_N_E_ok_unicos/iGTa_N'+str(nro_de_archivo)+'_E'+str(existe) +'_unicos.csv')\n",
    "plantilla_df = pasar_datos(nuevo_df, plantilla_df)"
   ]
  },
  {
   "cell_type": "code",
   "execution_count": null,
   "metadata": {},
   "outputs": [],
   "source": [
    "#plantilla_df"
   ]
  },
  {
   "cell_type": "code",
   "execution_count": null,
   "metadata": {},
   "outputs": [],
   "source": [
    "plantilla_df.to_csv(\"Prospectin_files/Prospectin_N\"+str(nro_de_archivo)+\".csv\", sep=';')"
   ]
  },
  {
   "cell_type": "code",
   "execution_count": null,
   "metadata": {},
   "outputs": [],
   "source": []
  }
 ],
 "metadata": {
  "kernelspec": {
   "display_name": "Python 3",
   "language": "python",
   "name": "python3"
  },
  "language_info": {
   "codemirror_mode": {
    "name": "ipython",
    "version": 3
   },
   "file_extension": ".py",
   "mimetype": "text/x-python",
   "name": "python",
   "nbconvert_exporter": "python",
   "pygments_lexer": "ipython3",
   "version": "3.7.4"
  }
 },
 "nbformat": 4,
 "nbformat_minor": 4
}
